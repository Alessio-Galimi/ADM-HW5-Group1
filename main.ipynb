{
 "cells": [
  {
   "cell_type": "markdown",
   "metadata": {},
   "source": [
    "# Homework 5 - Group 1"
   ]
  },
  {
   "cell_type": "markdown",
   "metadata": {},
   "source": [
    "### Import Libraries"
   ]
  },
  {
   "cell_type": "code",
   "execution_count": 1,
   "metadata": {},
   "outputs": [],
   "source": [
    "import pandas as pd\n",
    "from collections import defaultdict\n",
    "import dask.dataframe as dd\n",
    "from collections import Counter\n",
    "import numpy as np\n",
    "\n",
    "\n",
    "import matplotlib.pyplot as plt\n",
    "from tqdm import tqdm\n",
    "import dask.dataframe as dd\n",
    "\n",
    "import seaborn as sns\n",
    "\n",
    "import networkx as nx\n",
    "import matplotlib.pyplot as plt\n",
    "\n",
    "import random\n",
    "import os\n",
    "import json\n",
    "import operator"
   ]
  },
  {
   "cell_type": "markdown",
   "metadata": {},
   "source": [
    "## General notes\n",
    "1. You will notice that one article might belong to a single category or multiple ones. In the case of multiple appearance, you break the ties uniformly at random. Please, do it before solving any task in the homework."
   ]
  },
  {
   "cell_type": "code",
   "execution_count": 2,
   "metadata": {},
   "outputs": [],
   "source": [
    "# create a write json function\n",
    "def write_json(file_name, content):\n",
    "    os.makedirs(os.path.dirname(file_name), exist_ok=True)\n",
    "    with open(file_name, 'w') as outfile:\n",
    "        json.dump(content, outfile, sort_keys=True, indent=4)"
   ]
  },
  {
   "cell_type": "code",
   "execution_count": 3,
   "metadata": {},
   "outputs": [
    {
     "name": "stdout",
     "output_type": "stream",
     "text": [
      "Wall time: 4.15 s\n"
     ]
    }
   ],
   "source": [
    "%%time\n",
    "data = open(\"data/wiki-topcats-categories.txt\",\"r+\") \n",
    "\n",
    "# Create a dictionary with article Ids are keys and Categories are values\n",
    "articles = defaultdict(list)\n",
    "for line in data.readlines():\n",
    "    category, article_list = line.split(';')\n",
    "    if not (article_list and article_list.strip()):\n",
    "        continue\n",
    "    for article in article_list.strip().split(' '):\n",
    "        articles[article].append(category)\n",
    "    "
   ]
  },
  {
   "cell_type": "code",
   "execution_count": 4,
   "metadata": {},
   "outputs": [
    {
     "name": "stdout",
     "output_type": "stream",
     "text": [
      "Wall time: 3.82 s\n"
     ]
    }
   ],
   "source": [
    "%%time\n",
    "# For each article, Choosing an only one random category that it belongs\n",
    "for article_Id, categories in articles.items():\n",
    "    if len(category) != 1:\n",
    "        index = random.randint(0,len(categories)-1)\n",
    "        articles[article_Id] = [categories[index]]"
   ]
  },
  {
   "cell_type": "code",
   "execution_count": 5,
   "metadata": {},
   "outputs": [
    {
     "name": "stdout",
     "output_type": "stream",
     "text": [
      "Wall time: 826 ms\n"
     ]
    }
   ],
   "source": [
    "%%time\n",
    "# Building the dictionary with categories are keys and articles are values and each article belongs only one category\n",
    "categories = defaultdict(list)\n",
    "for article_Id, category in articles.items():\n",
    "    categories[category[0]].append(article_Id)"
   ]
  },
  {
   "cell_type": "code",
   "execution_count": 6,
   "metadata": {},
   "outputs": [],
   "source": [
    "# categories"
   ]
  },
  {
   "cell_type": "code",
   "execution_count": 7,
   "metadata": {},
   "outputs": [],
   "source": [
    "# Save category in the new json file\n",
    "write_json('data/new_categories.txt', categories)"
   ]
  },
  {
   "cell_type": "markdown",
   "metadata": {},
   "source": [
    "After these steps, we have the category dataset that each article belongs only one category"
   ]
  },
  {
   "cell_type": "markdown",
   "metadata": {},
   "source": [
    "## RQ1 \n",
    "Build the graph G=(V, E), where V is the set of articles and E the hyperlinks among them. Then, provide its basic information:"
   ]
  },
  {
   "cell_type": "markdown",
   "metadata": {},
   "source": [
    "### Import Data"
   ]
  },
  {
   "cell_type": "code",
   "execution_count": 8,
   "metadata": {
    "scrolled": false
   },
   "outputs": [
    {
     "data": {
      "text/html": [
       "<div>\n",
       "<style scoped>\n",
       "    .dataframe tbody tr th:only-of-type {\n",
       "        vertical-align: middle;\n",
       "    }\n",
       "\n",
       "    .dataframe tbody tr th {\n",
       "        vertical-align: top;\n",
       "    }\n",
       "\n",
       "    .dataframe thead th {\n",
       "        text-align: right;\n",
       "    }\n",
       "</style>\n",
       "<table border=\"1\" class=\"dataframe\">\n",
       "  <thead>\n",
       "    <tr style=\"text-align: right;\">\n",
       "      <th></th>\n",
       "      <th>Hyperlinks_Id</th>\n",
       "      <th>Source</th>\n",
       "      <th>Target</th>\n",
       "    </tr>\n",
       "  </thead>\n",
       "  <tbody>\n",
       "    <tr>\n",
       "      <td>0</td>\n",
       "      <td>796</td>\n",
       "      <td>95</td>\n",
       "      <td>1185516</td>\n",
       "    </tr>\n",
       "    <tr>\n",
       "      <td>1</td>\n",
       "      <td>909</td>\n",
       "      <td>108</td>\n",
       "      <td>1059989</td>\n",
       "    </tr>\n",
       "    <tr>\n",
       "      <td>2</td>\n",
       "      <td>910</td>\n",
       "      <td>108</td>\n",
       "      <td>1062426</td>\n",
       "    </tr>\n",
       "    <tr>\n",
       "      <td>3</td>\n",
       "      <td>911</td>\n",
       "      <td>108</td>\n",
       "      <td>1161925</td>\n",
       "    </tr>\n",
       "    <tr>\n",
       "      <td>4</td>\n",
       "      <td>1141</td>\n",
       "      <td>134</td>\n",
       "      <td>541222</td>\n",
       "    </tr>\n",
       "  </tbody>\n",
       "</table>\n",
       "</div>"
      ],
      "text/plain": [
       "   Hyperlinks_Id  Source   Target\n",
       "0            796      95  1185516\n",
       "1            909     108  1059989\n",
       "2            910     108  1062426\n",
       "3            911     108  1161925\n",
       "4           1141     134   541222"
      ]
     },
     "execution_count": 8,
     "metadata": {},
     "output_type": "execute_result"
    }
   ],
   "source": [
    "path = 'data/wikigraph_reduced.csv'\n",
    "dataset = pd.read_csv(path)\n",
    "dataset = dataset.rename(columns={\"Unnamed: 0\": \"Hyperlinks_Id\", \"0\": \"Source\", \"1\": \"Target\"})\n",
    "dataset.head()"
   ]
  },
  {
   "cell_type": "markdown",
   "metadata": {},
   "source": [
    "### Building the Graph G=(V,E)"
   ]
  },
  {
   "cell_type": "code",
   "execution_count": 9,
   "metadata": {},
   "outputs": [],
   "source": [
    "class Graph:\n",
    "    \"\"\"\n",
    "        Building a simple graph using an adjacency list\n",
    "    \"\"\"\n",
    "    def __init__(self):\n",
    "        # Create an empty graph\n",
    "        self.outgoing = defaultdict(list)\n",
    "        self.incoming = defaultdict(list)\n",
    "        self.edges = []\n",
    "    \n",
    "    def is_directed(self):\n",
    "        # return True if the graph is directed\n",
    "        return self.incoming is not self.outgoing\n",
    "    \n",
    "    def vertex_count(self):\n",
    "        # Count number of vertices in graph\n",
    "        return len(list(set(self.outgoing.keys()) | set(self.incoming.keys())))\n",
    "\n",
    "    def vertices(self):\n",
    "        # Return all vertices in graph\n",
    "        return list(set(self.outgoing.keys()) | set(self.incoming.keys()))\n",
    "    \n",
    "    def edge_count(self):\n",
    "        # count number of edges in graph\n",
    "        total = len(self.edges)\n",
    "        return total if self.is_directed() else total //2\n",
    "    \n",
    "    def degree(self, v, outgoing=True):\n",
    "        # return the in or out degree of a vertex \n",
    "        adj = self.outgoing if outgoing else self.incoming\n",
    "        return len(adj[v])\n",
    "    \n",
    "    def incident_edges(self, v, outgoing=True):\n",
    "        # Return the adjacent vertices of a vertex\n",
    "        adj = self.outgoing if outgoing else self.incoming\n",
    "        return adj[v]\n",
    "    \n",
    "    def insert_edge(self, u, v):\n",
    "        # Insert an edge into graph\n",
    "        self.outgoing[u].append(v)\n",
    "        self.incoming[v].append(u)\n",
    "        self.edges.append((u,v))\n",
    "\n",
    "        "
   ]
  },
  {
   "cell_type": "code",
   "execution_count": 10,
   "metadata": {},
   "outputs": [],
   "source": [
    "# Declare a Graph\n",
    "graph = Graph()"
   ]
  },
  {
   "cell_type": "code",
   "execution_count": 11,
   "metadata": {},
   "outputs": [
    {
     "name": "stdout",
     "output_type": "stream",
     "text": [
      "Wall time: 12 s\n"
     ]
    }
   ],
   "source": [
    "%%time\n",
    "# Insert all edges into the graph\n",
    "_ = dataset.apply(lambda row: graph.insert_edge(row['Source'], row['Target']), axis = 1)"
   ]
  },
  {
   "cell_type": "markdown",
   "metadata": {},
   "source": [
    "<b> Is the graph directed? </b>"
   ]
  },
  {
   "cell_type": "code",
   "execution_count": 12,
   "metadata": {},
   "outputs": [
    {
     "data": {
      "text/plain": [
       "True"
      ]
     },
     "execution_count": 12,
     "metadata": {},
     "output_type": "execute_result"
    }
   ],
   "source": [
    "graph.is_directed()"
   ]
  },
  {
   "cell_type": "markdown",
   "metadata": {},
   "source": [
    "Yes, The graph is directed"
   ]
  },
  {
   "cell_type": "markdown",
   "metadata": {},
   "source": [
    "<b> How many articles are we considering? </b>"
   ]
  },
  {
   "cell_type": "code",
   "execution_count": 13,
   "metadata": {},
   "outputs": [
    {
     "data": {
      "text/plain": [
       "98343"
      ]
     },
     "execution_count": 13,
     "metadata": {},
     "output_type": "execute_result"
    }
   ],
   "source": [
    "no_articles = graph.vertex_count()\n",
    "no_articles"
   ]
  },
  {
   "cell_type": "markdown",
   "metadata": {},
   "source": [
    "There are 98434 articles that we are considering"
   ]
  },
  {
   "cell_type": "markdown",
   "metadata": {},
   "source": [
    "<b> How many hyperlinks between pages exist? </b>"
   ]
  },
  {
   "cell_type": "code",
   "execution_count": 14,
   "metadata": {},
   "outputs": [
    {
     "data": {
      "text/plain": [
       "483094"
      ]
     },
     "execution_count": 14,
     "metadata": {},
     "output_type": "execute_result"
    }
   ],
   "source": [
    "no_hyperlinks = graph.edge_count()\n",
    "no_hyperlinks"
   ]
  },
  {
   "cell_type": "markdown",
   "metadata": {},
   "source": [
    "There are 483094 hyperlinks betwwen pages exist"
   ]
  },
  {
   "cell_type": "markdown",
   "metadata": {},
   "source": [
    "<b> Compute the average number of links in an arbitrary page </b>"
   ]
  },
  {
   "cell_type": "code",
   "execution_count": 15,
   "metadata": {},
   "outputs": [
    {
     "data": {
      "text/plain": [
       "4.912337431235573"
      ]
     },
     "execution_count": 15,
     "metadata": {},
     "output_type": "execute_result"
    }
   ],
   "source": [
    "average_no_links = no_hyperlinks/no_articles\n",
    "average_no_links"
   ]
  },
  {
   "cell_type": "markdown",
   "metadata": {},
   "source": [
    "The average number of links in a arbitrary page is about 5"
   ]
  },
  {
   "cell_type": "markdown",
   "metadata": {},
   "source": [
    "<b> What is the graph density? </b>\n",
    "\n",
    "For directed simple graphs, the maximum possible edges is twice that of undirected graphs to account for the directedness, so the density is:\n",
    "\\begin{align}\n",
    "D = \\frac {E}{V(V-1)}\n",
    "\\end{align}\n",
    "where E is the number of edges and V is the number of vertices in the graph."
   ]
  },
  {
   "cell_type": "code",
   "execution_count": 16,
   "metadata": {},
   "outputs": [
    {
     "data": {
      "text/plain": [
       "4.9951571365597335e-05"
      ]
     },
     "execution_count": 16,
     "metadata": {},
     "output_type": "execute_result"
    }
   ],
   "source": [
    "density = no_hyperlinks/(no_articles*(no_articles-1))\n",
    "density"
   ]
  },
  {
   "cell_type": "markdown",
   "metadata": {},
   "source": [
    "Based on the small value of density, We do believe that the graph is sparse and not dense"
   ]
  },
  {
   "cell_type": "markdown",
   "metadata": {},
   "source": [
    "<b> Visualize the nodes' degree distribution </b>"
   ]
  },
  {
   "cell_type": "markdown",
   "metadata": {},
   "source": [
    "Following the Definition of Degree Distribution on Wikipidia,The degree distribution P(k) of a network is then defined to be the fraction of nodes in the network with degree k. Thus if there are n nodes in total in a network and n_k of them have degree k, we have \n",
    "\n",
    "\n",
    "\\begin{align}\n",
    "    P(k) = \\frac{n_{k}}{n}\n",
    "\\end{align}"
   ]
  },
  {
   "cell_type": "code",
   "execution_count": 17,
   "metadata": {},
   "outputs": [
    {
     "data": {
      "image/png": "[encoded data removed]",
      "text/plain": [
       "<Figure size 1296x504 with 1 Axes>"
      ]
     },
     "metadata": {
      "needs_background": "light"
     },
     "output_type": "display_data"
    }
   ],
   "source": [
    "# return in_degree of all vertices in graph\n",
    "in_degree = [graph.degree(vertex, outgoing=False) for vertex in graph.vertices()]\n",
    "\n",
    "# Counter the in degree\n",
    "in_count = Counter(in_degree)\n",
    "\n",
    "# Calculate the degree distribution of nodes\n",
    "for key, value in in_count.items():\n",
    "    in_count[key] = value/no_articles\n",
    "\n",
    "# Counter form to DataFrame for plot purpose\n",
    "df = pd.DataFrame.from_dict(in_count, orient='index').reset_index()\n",
    "df = df.rename(columns={'index':'degree', 0:'degree_distribution'})\n",
    "\n",
    "# Barplot the degree distribution\n",
    "plt.figure(figsize=(18,7))\n",
    "plot = sns.barplot(x='degree',y='degree_distribution',data=df.head(50))\n",
    "plt.title('First 50 In Degree Distribution')\n",
    "plt.xlabel('In Degree')\n",
    "plt.ylabel('Fraction of Nodes')\n",
    "plt.ylim(0,df['degree_distribution'].max()*1.2);"
   ]
  },
  {
   "cell_type": "code",
   "execution_count": 18,
   "metadata": {},
   "outputs": [
    {
     "data": {
      "image/png": "[encoded data removed]",
      "text/plain": [
       "<Figure size 1296x504 with 1 Axes>"
      ]
     },
     "metadata": {
      "needs_background": "light"
     },
     "output_type": "display_data"
    }
   ],
   "source": [
    "# return out_degree of all vertices in graph\n",
    "out_degree = [graph.degree(vertex, outgoing=True) for vertex in graph.vertices()]\n",
    "\n",
    "# Counter the out degree\n",
    "out_count = Counter(out_degree)\n",
    "\n",
    "# Calculate the degree distribution of nodes\n",
    "for key, value in out_count.items():\n",
    "    out_count[key] = value/no_articles\n",
    "    \n",
    "# Counter form to DataFrame for plot purpose\n",
    "df = pd.DataFrame.from_dict(out_count, orient='index').reset_index()\n",
    "df = df.rename(columns={'index':'degree', 0:'degree_distribution'})\n",
    "\n",
    "# Barplot the degree distribution\n",
    "plt.figure(figsize=(18,7))\n",
    "plot = sns.barplot(x='degree',y='degree_distribution',data=df.head(50))\n",
    "plt.title('First 50 Out Degree Distribution')\n",
    "plt.xlabel('Out Degree')\n",
    "plt.ylabel('Fraction of Nodes')\n",
    "plt.ylim(0,df['degree_distribution'].max()*1.2);"
   ]
  },
  {
   "cell_type": "code",
   "execution_count": 19,
   "metadata": {},
   "outputs": [
    {
     "data": {
      "image/png": "[encoded data removed]",
      "text/plain": [
       "<Figure size 1296x504 with 1 Axes>"
      ]
     },
     "metadata": {
      "needs_background": "light"
     },
     "output_type": "display_data"
    }
   ],
   "source": [
    "# Degree included both in and out degree\n",
    "degree = in_degree + out_degree\n",
    "\n",
    "# Counter the degree\n",
    "count = Counter(degree)\n",
    "\n",
    "# Calculate the degree distribution of nodes\n",
    "for key, value in count.items():\n",
    "    count[key] = value/no_articles\n",
    "\n",
    "# Counter form to DataFrame for plot purpose\n",
    "df = pd.DataFrame.from_dict(count, orient='index').reset_index()\n",
    "df = df.rename(columns={'index':'degree', 0:'degree_distribution'})\n",
    "\n",
    "# Barplot the degree distribution\n",
    "plt.figure(figsize=(18,7))\n",
    "plot = sns.barplot(x='degree',y='degree_distribution',data=df.head(50))\n",
    "plt.title('First 50 Degree Distribution')\n",
    "plt.xlabel('Degree')\n",
    "plt.ylabel('Fraction of Nodes')\n",
    "plt.ylim(0,df['degree_distribution'].max()*1.2);"
   ]
  },
  {
   "cell_type": "markdown",
   "metadata": {},
   "source": [
    "## RQ2\n",
    "Define a function that takes in input:\n",
    "- A page v\n",
    "- A number of clicks d \\\n",
    "and returns the set of all pages that a user can reach within d clicks."
   ]
  },
  {
   "cell_type": "markdown",
   "metadata": {},
   "source": [
    "<b>Initialize the Graph</b>"
   ]
  },
  {
   "cell_type": "code",
   "execution_count": 20,
   "metadata": {},
   "outputs": [],
   "source": [
    "# Declare a Graph\n",
    "graph = Graph()\n",
    "# Insert all edges into the graph\n",
    "_ = dataset.apply(lambda row: graph.insert_edge(row['Source'], row['Target']), axis = 1)"
   ]
  },
  {
   "cell_type": "markdown",
   "metadata": {},
   "source": [
    "<b> Build the function </b>"
   ]
  },
  {
   "cell_type": "code",
   "execution_count": 21,
   "metadata": {},
   "outputs": [],
   "source": [
    "def get_pages_reached(graph, source, depth):\n",
    "    \"\"\"\n",
    "    Build the function return all nodes can reach within number of depth \n",
    "    \"\"\"\n",
    "    discovered = []\n",
    "    egdes = []\n",
    "    level = [source]\n",
    "    \n",
    "    # if depth is 0, return source\n",
    "    if depth == 0:\n",
    "        return source, egdes\n",
    "    \n",
    "    while depth > 0:\n",
    "        next_level = []\n",
    "        for vertex in level:\n",
    "            for adj in graph.incident_edges(vertex):\n",
    "                if adj not in discovered:\n",
    "                    edge = (vertex, adj)\n",
    "                    egdes.append(edge)\n",
    "                    discovered.append(adj)\n",
    "                    next_level.append(adj)\n",
    "        level = next_level\n",
    "        depth -= 1\n",
    "    \n",
    "    return discovered, egdes\n"
   ]
  },
  {
   "cell_type": "code",
   "execution_count": 22,
   "metadata": {},
   "outputs": [],
   "source": [
    "# trying with a page 95 with number of click is 2\n",
    "discovered, egdes = get_pages_reached(graph, 95, 2)"
   ]
  },
  {
   "cell_type": "code",
   "execution_count": 23,
   "metadata": {},
   "outputs": [
    {
     "data": {
      "text/plain": [
       "[1185516, 150451, 1062563, 1178930, 1184017, 1184695, 1761109]"
      ]
     },
     "execution_count": 23,
     "metadata": {},
     "output_type": "execute_result"
    }
   ],
   "source": [
    "discovered"
   ]
  },
  {
   "cell_type": "markdown",
   "metadata": {},
   "source": [
    "This is all pages that user can reach within d clicks"
   ]
  },
  {
   "cell_type": "code",
   "execution_count": 24,
   "metadata": {
    "scrolled": true
   },
   "outputs": [
    {
     "data": {
      "text/plain": [
       "[(95, 1185516),\n",
       " (1185516, 150451),\n",
       " (1185516, 1062563),\n",
       " (1185516, 1178930),\n",
       " (1185516, 1184017),\n",
       " (1185516, 1184695),\n",
       " (1185516, 1761109)]"
      ]
     },
     "execution_count": 24,
     "metadata": {},
     "output_type": "execute_result"
    }
   ],
   "source": [
    "# return edges\n",
    "egdes"
   ]
  },
  {
   "cell_type": "code",
   "execution_count": 25,
   "metadata": {
    "scrolled": true
   },
   "outputs": [
    {
     "name": "stderr",
     "output_type": "stream",
     "text": [
      "D:\\Jupyter\\lib\\site-packages\\networkx\\drawing\\nx_pylab.py:579: MatplotlibDeprecationWarning: \n",
      "The iterable function was deprecated in Matplotlib 3.1 and will be removed in 3.3. Use np.iterable instead.\n",
      "  if not cb.iterable(width):\n",
      "D:\\Jupyter\\lib\\site-packages\\networkx\\drawing\\nx_pylab.py:676: MatplotlibDeprecationWarning: \n",
      "The iterable function was deprecated in Matplotlib 3.1 and will be removed in 3.3. Use np.iterable instead.\n",
      "  if cb.iterable(node_size):  # many node sizes\n"
     ]
    },
    {
     "data": {
      "image/png": "[encoded data removed]",
      "text/plain": [
       "<Figure size 432x288 with 1 Axes>"
      ]
     },
     "metadata": {},
     "output_type": "display_data"
    }
   ],
   "source": [
    "# Vizualization\n",
    "g = nx.DiGraph()\n",
    "g.add_edges_from(egdes)\n",
    "nx.draw_circular(g,node_color = 'yellow', with_labels=1)\n",
    "plt.draw()\n",
    "plt.show()"
   ]
  },
  {
   "cell_type": "markdown",
   "metadata": {},
   "source": [
    "## RQ3\n",
    "Define a function that takes in input:\n",
    "\n",
    "- A category C\n",
    "- A set of pages in C, p = {p1, ..., pn}\n",
    "and returns the minimum number of clicks required to reach all pages in p, starting from the page v, corresponding to the most central article, according to the in-degree centrality, in C.\n",
    "\n",
    "### Answer\n",
    "One way to come up with approximate solutions to this probem is to use heuristics, a techique to find the good choice. When a algorithm uses a heuristic, it no longer needs to exhaustively search every possible path, so it can find the approximate shortest path more quickly. The chosen heuristic for this problem is 'Nearest neighbor'. the algorithm will pick the nearest unvisited article as the next article on the path"
   ]
  },
  {
   "cell_type": "markdown",
   "metadata": {},
   "source": [
    "<b>Initialize a graph</b>"
   ]
  },
  {
   "cell_type": "code",
   "execution_count": 26,
   "metadata": {},
   "outputs": [],
   "source": [
    "# Declare a Graph\n",
    "graph = Graph()\n",
    "# Insert all edges into the graph\n",
    "_ = dataset.apply(lambda row: graph.insert_edge(row['Source'], row['Target']), axis = 1)"
   ]
  },
  {
   "cell_type": "markdown",
   "metadata": {},
   "source": [
    "<b> Load categories </b>"
   ]
  },
  {
   "cell_type": "code",
   "execution_count": 27,
   "metadata": {},
   "outputs": [],
   "source": [
    "def read_json(file_name):\n",
    "    with open(file_name) as json_file:\n",
    "        data_dict = json.load(json_file)\n",
    "        return data_dict"
   ]
  },
  {
   "cell_type": "code",
   "execution_count": 28,
   "metadata": {},
   "outputs": [],
   "source": [
    "# Read all categories\n",
    "categories = read_json('data/new_categories.txt')"
   ]
  },
  {
   "cell_type": "markdown",
   "metadata": {},
   "source": [
    "<b> Build functions </b>"
   ]
  },
  {
   "cell_type": "code",
   "execution_count": 29,
   "metadata": {},
   "outputs": [],
   "source": [
    "# Write a function return the in degree list of articles\n",
    "def in_degree_centrality(graph, articles):\n",
    "    in_degree = {}\n",
    "    for article in articles:\n",
    "        in_degree[article] = graph.degree(int(article), outgoing=False)\n",
    "    return in_degree"
   ]
  },
  {
   "cell_type": "code",
   "execution_count": 30,
   "metadata": {},
   "outputs": [],
   "source": [
    "# A function return the distances between the a source article to each article in a category\n",
    "def get_distances(graph, source, articles, path):\n",
    "    '''\n",
    "    Build a function return the distance between the a source article to each article in a category\n",
    "    - graph: the Graph\n",
    "    - source: the article source\n",
    "    - articles: the article targets\n",
    "    - path: the articles that have reached\n",
    "    '''\n",
    "    \n",
    "    discovered = [] # to save the article is reached\n",
    "    level = [source]\n",
    "    distances = {} # to save the distances between source and targets\n",
    "    count = 1 # count the distance between source and target\n",
    "    \n",
    "    while len(articles) > 0:\n",
    "        next_level = []\n",
    "        for article in level:\n",
    "            for adj in graph.incident_edges(article): # return the adjacent articles\n",
    "                if adj not in discovered:\n",
    "                    next_level.append(adj)\n",
    "                    discovered.append(adj)\n",
    "                    if adj in articles and adj not in path:\n",
    "                        distances[adj] = count\n",
    "                        articles.remove(adj)  # when a article reached are removed from articles list. when all articles are reached, articles list will be empty \n",
    "        \n",
    "        # when the next_level is empty and some articles still can not be reached. assign the distance is -1\n",
    "        if len(next_level) == 0:\n",
    "            for article in articles:\n",
    "                if article not in path:\n",
    "                    distances[article] = -1\n",
    "            return distances\n",
    "        \n",
    "        level = next_level\n",
    "        count +=1\n",
    "    \n",
    "    return distances"
   ]
  },
  {
   "cell_type": "code",
   "execution_count": 31,
   "metadata": {},
   "outputs": [],
   "source": [
    "def minimum_number_of_clicks(graph, categories, category_name):\n",
    "    '''\n",
    "    Returns the minimum number of clicks required to reach all pages in p, \n",
    "    starting from the page v which is the in degree centrality\n",
    "    - graph: the Graph\n",
    "    - categories: contains category name and articles belong to each category\n",
    "    - category name: category name input\n",
    "    '''\n",
    "    \n",
    "    articles = list(map(int, categories[category_name]))\n",
    "    \n",
    "    # return a in degree of articles\n",
    "    in_degree = in_degree_centrality(graph, articles)\n",
    "    \n",
    "    # if 2 articles have in degree 0. it's impossible to reach all articles\n",
    "    if Counter(in_degree.values())[0] >=2:\n",
    "        return '1. Not Possible'\n",
    "    \n",
    "    # source is the article with max number of in degree (in degree centrality)\n",
    "    source = int(max(in_degree.items(), key=operator.itemgetter(1))[0])\n",
    "    \n",
    "    # check if the source have no out degree. return 'Not Possilbe'\n",
    "    out_degree_soure = graph.degree(int(source), outgoing = True)\n",
    "    if out_degree_soure == 0:\n",
    "        return '2. Not Possible'\n",
    "    #else: print('The in degree centrality is ', source)\n",
    "    \n",
    "    path = []  # path to save the article reached from articles\n",
    "    no_clicks = 0  # number of clicks\n",
    "    \n",
    "    \n",
    "    while True: # this will be stopped when all articles are reached or at least one article can't be reached\n",
    "        \n",
    "        path.append(source)\n",
    "        \n",
    "        # create article target without the article source \n",
    "        articles_targets = [article for article in articles if article != source]\n",
    "        \n",
    "        # return the distances between source and other articles\n",
    "        distances = get_distances(graph, source, articles_targets, path)\n",
    "        \n",
    "        # if distance = -1, it means there is at least a node which can not be reached\n",
    "        if -1 in distances.values():\n",
    "            return '3. Not Possible'\n",
    "        \n",
    "        # if lenght of distances = 0, it means all articles are reached\n",
    "        if len(distances) == 0:\n",
    "            #print('The shortest path to reach all articles is in order: ', path)\n",
    "            return no_clicks\n",
    "        \n",
    "        # new article source with the shortest distance from the previous article source\n",
    "        source = min(distances.items(), key=operator.itemgetter(1))[0]\n",
    "        \n",
    "        # update number of clicks\n",
    "        no_clicks += distances[source]\n",
    "        \n"
   ]
  },
  {
   "cell_type": "markdown",
   "metadata": {},
   "source": [
    "<b> Implimentation </b>"
   ]
  },
  {
   "cell_type": "code",
   "execution_count": 32,
   "metadata": {
    "scrolled": true
   },
   "outputs": [
    {
     "data": {
      "text/plain": [
       "'1. Not Possible'"
      ]
     },
     "execution_count": 32,
     "metadata": {},
     "output_type": "execute_result"
    }
   ],
   "source": [
    "# Radom choosing a category\n",
    "category = random.sample(categories.keys(),1)[0]\n",
    "minimum_number_of_clicks(graph, categories, category)"
   ]
  },
  {
   "cell_type": "markdown",
   "metadata": {},
   "source": [
    "<b> Because the hyperlink file is the reduced file so there are alot of articles in category can not be reached. That is the reason it return  many 'Not Possible'\n"
   ]
  },
  {
   "cell_type": "markdown",
   "metadata": {},
   "source": [
    "### MockTest"
   ]
  },
  {
   "cell_type": "code",
   "execution_count": 33,
   "metadata": {},
   "outputs": [],
   "source": [
    "# Create a graph \n",
    "g = Graph()\n",
    "g.insert_edge(1,5)\n",
    "g.insert_edge(5,6)\n",
    "g.insert_edge(6,4)\n",
    "g.insert_edge(6,7)\n",
    "g.insert_edge(7,3)\n",
    "g.insert_edge(3,2)\n",
    "g.insert_edge(2,1)\n",
    "g.insert_edge(3,1)\n",
    "g.insert_edge(4,1)\n",
    "g.insert_edge(8,7)\n",
    "# g.insert_edge(5,2)\n",
    "# g.insert_edge(7,2)"
   ]
  },
  {
   "cell_type": "code",
   "execution_count": 34,
   "metadata": {},
   "outputs": [
    {
     "data": {
      "image/png": "[encoded data removed]",
      "text/plain": [
       "<Figure size 432x288 with 1 Axes>"
      ]
     },
     "metadata": {},
     "output_type": "display_data"
    }
   ],
   "source": [
    "# Plot a new graph to test\n",
    "g_network = nx.DiGraph()\n",
    "g_network.add_edges_from(g.edges)\n",
    "nx.draw_circular(g_network,node_color = 'yellow', with_labels=1)\n",
    "plt.draw()\n",
    "plt.show()"
   ]
  },
  {
   "cell_type": "code",
   "execution_count": 35,
   "metadata": {},
   "outputs": [],
   "source": [
    "categories = {'The Autumn': [1,7,5,2]}"
   ]
  },
  {
   "cell_type": "code",
   "execution_count": 36,
   "metadata": {},
   "outputs": [
    {
     "name": "stdout",
     "output_type": "stream",
     "text": [
      "Minimun number of clicks is  5\n"
     ]
    }
   ],
   "source": [
    "#return minimum number of clicks\n",
    "min_no_click = minimum_number_of_clicks(g, categories, 'The Autumn')\n",
    "print('Minimun number of clicks is ', min_no_click)"
   ]
  },
  {
   "cell_type": "markdown",
   "metadata": {},
   "source": [
    "## RQ4\n",
    "\n",
    "Given in input two categories: C1 and C2, we get the subgraph induced by all the articles in the two categories.\n",
    "\n",
    "- Let v and u two arbitrary pages in the subgraph. What is the minimum set of hyperlinks one can remove to disconnect u and v?\n",
    "\n",
    "### Anwser\n",
    "- We build a subgraph from 2 categories.\n",
    "- From this subgraph, we randomly choose 2 arbitrary pages and then find all the paths connected 2 pages by applying the DFS algorithm including from u to v and from v to u\n",
    "- Based on all the paths found, store set of adjcent edges from source and store set of adjacent edges come to target\n",
    "- Return the minimun set of hyperlinks"
   ]
  },
  {
   "cell_type": "markdown",
   "metadata": {},
   "source": [
    "<b> Load categories </b>"
   ]
  },
  {
   "cell_type": "code",
   "execution_count": 37,
   "metadata": {},
   "outputs": [],
   "source": [
    "# Read all categories\n",
    "categories = read_json('data/new_categories.txt')"
   ]
  },
  {
   "cell_type": "markdown",
   "metadata": {},
   "source": [
    "<b> Initialize the Graph </b>"
   ]
  },
  {
   "cell_type": "code",
   "execution_count": 38,
   "metadata": {},
   "outputs": [],
   "source": [
    "graph = Graph()\n",
    "_ = dataset.apply(lambda row: graph.insert_edge(row['Source'], row['Target']), axis = 1)"
   ]
  },
  {
   "cell_type": "markdown",
   "metadata": {},
   "source": [
    "<b> Build Subgraph from 2 categories</b>"
   ]
  },
  {
   "cell_type": "code",
   "execution_count": 39,
   "metadata": {},
   "outputs": [],
   "source": [
    "# Randomly choose 2 categories \n",
    "# category1, article_id1 = random.choice(list(categories.items()))\n",
    "# category2, article_id2 = random.choice(list(categories.items()))\n",
    "\n",
    "article_id1 = categories['Category:Handball_players_at_the_1988_Summer_Olympics']\n",
    "article_id2 = categories['Category:American_television_actors']\n",
    "\n",
    "vertices = list(map(int,article_id1 + article_id2))\n",
    "\n",
    "subgraph = Graph()\n",
    "for vertex in vertices:\n",
    "    for adj in graph.incident_edges(vertex):\n",
    "        if adj in vertices:\n",
    "            subgraph.insert_edge(vertex, adj)"
   ]
  },
  {
   "cell_type": "code",
   "execution_count": 40,
   "metadata": {},
   "outputs": [
    {
     "data": {
      "image/png": "[encoded data removed]",
      "text/plain": [
       "<Figure size 432x288 with 1 Axes>"
      ]
     },
     "metadata": {},
     "output_type": "display_data"
    }
   ],
   "source": [
    "# Vizualize the subgraph\n",
    "g_network = nx.DiGraph()\n",
    "g_network.add_edges_from(subgraph.edges)\n",
    "nx.draw(g_network,node_color = 'yellow', with_labels=0)\n",
    "plt.draw()\n",
    "plt.show()"
   ]
  },
  {
   "cell_type": "markdown",
   "metadata": {},
   "source": [
    "<b> Build Functions </b>"
   ]
  },
  {
   "cell_type": "code",
   "execution_count": 41,
   "metadata": {},
   "outputs": [],
   "source": [
    "def DFS(graph, source, target, visited, path, no_of_hyperlink): \n",
    "  \n",
    "        # store the current node in visited and path \n",
    "        visited.append(source)\n",
    "        path.append(source) \n",
    "  \n",
    "        # If current vertex is same as destination, save edges from source and target to degree dict\n",
    "        if source == target:\n",
    "            print('Path: ', path)\n",
    "            no_of_hyperlink[path[0]].add((path[0],path[1]))\n",
    "            no_of_hyperlink[path[-1]].add((path[-2],path[-1]))\n",
    "        else: \n",
    "            #Recur for all the vertices adjacent to this vertex \n",
    "            for adj in graph.incident_edges(source): \n",
    "                if adj not in visited: \n",
    "                    DFS(graph, adj, target, visited, path, no_of_hyperlink) \n",
    "                      \n",
    "        # Remove current vertex from path and visited\n",
    "        path.pop()\n",
    "        visited.remove(source)\n",
    "   "
   ]
  },
  {
   "cell_type": "code",
   "execution_count": 42,
   "metadata": {},
   "outputs": [],
   "source": [
    "def min_no_of_hyperlinks(graph, source, target):\n",
    "  \n",
    "        # declare a empty visited list\n",
    "        visited =[] \n",
    "  \n",
    "        # Create an list to store paths \n",
    "        path = []\n",
    "        \n",
    "        #Create a dictionary to contain the adjacent edges from source and to targets\n",
    "        no_of_hyperlink = defaultdict(set)\n",
    "        \n",
    "        # Call the recursive helper function to fill all paths between source and target\n",
    "        DFS(graph, source, target, visited, path, no_of_hyperlink)\n",
    "        \n",
    "        # check if source and target connected\n",
    "        if len(no_of_hyperlink) == 0:\n",
    "            return 'Not connected'\n",
    "        else: # return the minimum set of hyperlinks\n",
    "            if len(no_of_hyperlink[source]) > len(no_of_hyperlink[target]):\n",
    "                return no_of_hyperlink[target]\n",
    "            else:\n",
    "                return no_of_hyperlink[source]"
   ]
  },
  {
   "cell_type": "markdown",
   "metadata": {},
   "source": [
    "<b> Implementation  </b>"
   ]
  },
  {
   "cell_type": "code",
   "execution_count": 43,
   "metadata": {},
   "outputs": [],
   "source": [
    "def QR4(subgraph, page_1, page_2):\n",
    "    forward = min_no_of_hyperlinks(subgraph, page_1 ,page_2)\n",
    "    backward = min_no_of_hyperlinks(subgraph, page_2 ,page_1)\n",
    "    if forward != 'Not connected':\n",
    "        print('- Minimun set of hyperlinks to disconnect from page 1 to page 2:', forward)\n",
    "    else: print('- Page 1 to page 2 is', forward)    \n",
    "\n",
    "    if backward != 'Not connected':\n",
    "        print('- Minimun set of hyperlinks to disconnect from page 2 to page 1:', backward)\n",
    "    else: print('- Page 2 to page 1 is', backward)    \n"
   ]
  },
  {
   "cell_type": "code",
   "execution_count": 44,
   "metadata": {
    "scrolled": false
   },
   "outputs": [
    {
     "name": "stdout",
     "output_type": "stream",
     "text": [
      "Path:  [1165218, 1164970, 1165224, 1062124]\n",
      "Path:  [1165218, 1165127, 1165225, 1165224, 1062124]\n",
      "Path:  [1165218, 1165698, 1164970, 1165224, 1062124]\n",
      "Path:  [1165218, 1165736, 1165127, 1165225, 1165224, 1062124]\n",
      "- Minimun set of hyperlinks to disconnect from page 1 to page 2: {(1165224, 1062124)}\n",
      "- Page 2 to page 1 is Not connected\n"
     ]
    }
   ],
   "source": [
    "#random choose 2 pages from the subgrap\n",
    "# page_1 = random.choice(subgraph.vertices())\n",
    "# page_2 = random.choice(subgraph.vertices())\n",
    "page_1 = 1165218\n",
    "page_2 = 1062124\n",
    "\n",
    "QR4(subgraph, page_1, page_2)"
   ]
  },
  {
   "cell_type": "markdown",
   "metadata": {},
   "source": [
    "## RQ5\n",
    "Write a function that, given an arbitrary category $C_0$ as input, returns the list of remaning categories sorted by their distance from $C_0$. In particular, the distance between two categories is defined as\n",
    "\n",
    "distance($C_0, C_i$) = median(ShortestPath($C_0, C_i$))\n",
    "\n",
    "where ShortestPath($C_0, C_i$) is the set of shortest paths from each pair of nodes in the two categories."
   ]
  },
  {
   "cell_type": "markdown",
   "metadata": {},
   "source": [
    "<b> Load categories </b>"
   ]
  },
  {
   "cell_type": "code",
   "execution_count": 45,
   "metadata": {},
   "outputs": [],
   "source": [
    "# Read all categories\n",
    "categories = read_json('data/new_categories.txt')"
   ]
  },
  {
   "cell_type": "markdown",
   "metadata": {},
   "source": [
    "<b> Initialize a Graph </b>"
   ]
  },
  {
   "cell_type": "code",
   "execution_count": 46,
   "metadata": {},
   "outputs": [],
   "source": [
    "graph = Graph()\n",
    "_ = dataset.apply(lambda row: graph.insert_edge(row['Source'], row['Target']), axis = 1)"
   ]
  },
  {
   "cell_type": "markdown",
   "metadata": {},
   "source": [
    "<b> Build Functions </b>"
   ]
  },
  {
   "cell_type": "code",
   "execution_count": 47,
   "metadata": {},
   "outputs": [],
   "source": [
    "def shortestpath(graph, source, articles):\n",
    "    '''\n",
    "    Build a function return the shortest path from source to all the articles\n",
    "    Graph: an instance of Graph\n",
    "    source: a article source\n",
    "    articles: the list of articles\n",
    "    '''\n",
    "    visited = [source]\n",
    "    level = [source]\n",
    "    \n",
    "    distances = dict.fromkeys(articles, -1)\n",
    "    count = 1\n",
    "    while True:\n",
    "        new_level = []\n",
    "        for article in level:\n",
    "            for adj in graph.incident_edges(article):\n",
    "                if adj not in visited:\n",
    "                    new_level.append(adj)\n",
    "                    visited.append(adj)\n",
    "                    if adj in articles:\n",
    "                        distances[adj] = count\n",
    "        if len(new_level) == 0:\n",
    "            break\n",
    "        level = new_level\n",
    "        count +=1\n",
    "    \n",
    "    if (np.array(list(distances.values())) == -1).all():\n",
    "        return -1\n",
    "    else:\n",
    "        shortest_distance = min([distance for article, distance in distances.items() if distance != -1])\n",
    "        \n",
    "    return shortest_distance"
   ]
  },
  {
   "cell_type": "code",
   "execution_count": 48,
   "metadata": {},
   "outputs": [],
   "source": [
    "def category_distance(graph, categories, input_category):\n",
    "    '''\n",
    "    Build a function return list category sorted by distances from input_category\n",
    "    graph: an instance of Graph\n",
    "    categories: containing category names as the keys and articles belong to each category as the values\n",
    "    input_category: the category name\n",
    "    '''\n",
    "    \n",
    "    cate_distances = {}\n",
    "    \n",
    "    for category, articles in categories.items():\n",
    "        shortest_path = {}\n",
    "        articles = [int(article) for article in articles if article in graph.vertices()]\n",
    "        if category != input_category:\n",
    "            for source in categories[input_category]:\n",
    "                if source in graph.vertices():\n",
    "                    shortest_distance = shortestpath(graph, int(source), articles) # return shortest distance from source to articles\n",
    "                    \n",
    "                    if shortest_distance == -1: \n",
    "                         continue\n",
    "                    else:\n",
    "                        shortest_path[source] = shortest_distance\n",
    "            \n",
    "            if len(shortest_path) == 0:\n",
    "                continue\n",
    "            else:\n",
    "                median = np.median([shortest for source, shortest in shortest_path.items()])\n",
    "                cate_distances[category] = median\n",
    "    if len(cate_distances) == 0:\n",
    "        return 'Input Category have no connection with the other categories'\n",
    "    else:\n",
    "        return dict(sorted(cate_distances.items(), key=lambda item: item[1]))"
   ]
  },
  {
   "cell_type": "markdown",
   "metadata": {},
   "source": [
    "<b> Implementation </b>"
   ]
  },
  {
   "cell_type": "code",
   "execution_count": 49,
   "metadata": {},
   "outputs": [],
   "source": [
    "# Random to choose a category\n",
    "# input_category = random.sample(categories.keys(),1)[0]\n",
    "\n",
    "input_category = 'Category:12th-century_English_people'\n",
    "# category_distance(graph, categories, input_category)"
   ]
  },
  {
   "cell_type": "markdown",
   "metadata": {},
   "source": [
    "Comments: Because we have a huge number of nodes in graph, so to find the shortest path from a source to a list of articles take a lot of time so we created a Mocktest to run the functions"
   ]
  },
  {
   "cell_type": "markdown",
   "metadata": {},
   "source": [
    "### MockTest"
   ]
  },
  {
   "cell_type": "code",
   "execution_count": 50,
   "metadata": {},
   "outputs": [],
   "source": [
    "# Create a graph \n",
    "g = Graph()\n",
    "g.insert_edge(1,5)\n",
    "g.insert_edge(5,6)\n",
    "g.insert_edge(6,4)\n",
    "g.insert_edge(6,7)\n",
    "g.insert_edge(7,3)\n",
    "g.insert_edge(3,2)\n",
    "g.insert_edge(2,1)\n",
    "g.insert_edge(3,1)\n",
    "g.insert_edge(4,1)\n",
    "g.insert_edge(8,7)\n",
    "g.insert_edge(8,9)"
   ]
  },
  {
   "cell_type": "code",
   "execution_count": 51,
   "metadata": {
    "scrolled": false
   },
   "outputs": [
    {
     "data": {
      "image/png": "[encoded data removed]",
      "text/plain": [
       "<Figure size 432x288 with 1 Axes>"
      ]
     },
     "metadata": {},
     "output_type": "display_data"
    }
   ],
   "source": [
    "# Plot a new graph to test\n",
    "g_network = nx.DiGraph()\n",
    "g_network.add_edges_from(g.edges)\n",
    "nx.draw_circular(g_network,node_color = 'yellow', with_labels=1)\n",
    "plt.draw()\n",
    "plt.show()"
   ]
  },
  {
   "cell_type": "code",
   "execution_count": 52,
   "metadata": {},
   "outputs": [],
   "source": [
    "category= {'Category:Living_people': [2,1, 3], 'Category:English-language_films':[5,6], 'Category:American_films':[1,8]}"
   ]
  },
  {
   "cell_type": "code",
   "execution_count": 53,
   "metadata": {
    "scrolled": true
   },
   "outputs": [
    {
     "data": {
      "text/plain": [
       "{'Category:American_films': 1.0, 'Category:English-language_films': 2.0}"
      ]
     },
     "execution_count": 53,
     "metadata": {},
     "output_type": "execute_result"
    }
   ],
   "source": [
    "input_category = 'Category:Living_people'\n",
    "category_distance(g, category, input_category)"
   ]
  },
  {
   "cell_type": "markdown",
   "metadata": {},
   "source": [
    "## RQ6\n",
    "Write a function that sorts the categories in the graph according to their PageRank (PR). For this task you need to model the network of categories such that you can apply the PR algorithm.\n",
    "\n",
    "### Answer\n",
    "- Model of the network of categories by building a directed graph with each node is a category and weight of each edge is number of connection(edges) from a category to an another category\n",
    "- When we have a weighted directed graph of categories, we apply the PageRank Algorithm below:\n",
    "\n",
    "\n",
    "\\begin{align}\n",
    "    PR(u) = \\sum_{ v \\in B_u} \\frac{PR(v)}{L(v)}\n",
    "\\end{align}\n",
    "\n",
    "Where:\n",
    "- PR(u) is pagerank value for a page u\n",
    "- v is a page contained in set $B_u$ which is a set containing all pages direct to page u\n",
    "- L(v) is a total number of oubound links from page v"
   ]
  },
  {
   "cell_type": "markdown",
   "metadata": {},
   "source": [
    "<b> Load categories </b>"
   ]
  },
  {
   "cell_type": "code",
   "execution_count": 54,
   "metadata": {},
   "outputs": [],
   "source": [
    "# Read all categories\n",
    "categories = read_json('data/new_categories.txt')"
   ]
  },
  {
   "cell_type": "markdown",
   "metadata": {},
   "source": [
    "<b> Initialize a graph </b>"
   ]
  },
  {
   "cell_type": "code",
   "execution_count": 55,
   "metadata": {},
   "outputs": [],
   "source": [
    "graph = Graph()\n",
    "_ = dataset.apply(lambda row: graph.insert_edge(row['Source'], row['Target']), axis = 1)"
   ]
  },
  {
   "cell_type": "markdown",
   "metadata": {},
   "source": [
    "### Building a weighted directed Graph with each node as a category"
   ]
  },
  {
   "cell_type": "code",
   "execution_count": 56,
   "metadata": {},
   "outputs": [],
   "source": [
    "# Create an articles dictionary with article Id as key and category Id as values\n",
    "articles = dict.fromkeys(graph.vertices(), 0)\n",
    "category_ids = {} # contain category Id as key and category name as values coressponding\n",
    "count = 0\n",
    "for category_name, article_ids in categories.items():\n",
    "    article_ids = list(map(int, article_ids))\n",
    "    category_ids[count] = category_name\n",
    "    for article_id in article_ids:\n",
    "        if article_id in articles.keys():\n",
    "            articles[article_id] = count\n",
    "    count += 1"
   ]
  },
  {
   "cell_type": "code",
   "execution_count": 57,
   "metadata": {},
   "outputs": [],
   "source": [
    "model = nx.DiGraph()\n",
    "# add nodes as the categories in to graph\n",
    "model.add_nodes_from(category_ids.keys())"
   ]
  },
  {
   "cell_type": "code",
   "execution_count": 58,
   "metadata": {},
   "outputs": [],
   "source": [
    "# add edges into graph with weights which is number of ouboud links for the category source to category target\n",
    "category_source = 0\n",
    "for category_name, article_ids in categories.items():\n",
    "    out_categories = [] \n",
    "    article_ids = list(map(int, article_ids))\n",
    "    \n",
    "    for article_id in article_ids:\n",
    "        out_degree = graph.incident_edges(article_id)\n",
    "        out_categories += [articles[a_id] for a_id in out_degree]\n",
    "        \n",
    "    if len(out_categories) != 0:\n",
    "        for category_target, weight in Counter(out_categories).items():\n",
    "            model.add_weighted_edges_from([(category_source, category_target, weight)])\n",
    "    category_source += 1"
   ]
  },
  {
   "cell_type": "code",
   "execution_count": 59,
   "metadata": {
    "scrolled": true
   },
   "outputs": [],
   "source": [
    "# model.edges().data('weight')"
   ]
  },
  {
   "cell_type": "markdown",
   "metadata": {},
   "source": [
    "### PageRank Algorithm"
   ]
  },
  {
   "cell_type": "code",
   "execution_count": 60,
   "metadata": {},
   "outputs": [],
   "source": [
    "def PageRank(model, iters = 10):\n",
    "    \n",
    "    # initialize the weighted rank for each category\n",
    "    old_rank = dict.fromkeys(model.nodes(), 1/model.number_of_nodes())\n",
    "    \n",
    "    for i in range(iters):\n",
    "\n",
    "        page_rank = old_rank.copy()\n",
    "        \n",
    "        for page in model.nodes():\n",
    "            predecessors =  list(model.predecessors(page))  # return set of pages(category) direct to page\n",
    "            if len(predecessors) == 0:\n",
    "                continue\n",
    "            else:\n",
    "                weighted = [ old_rank[i] for i in predecessors ] # return weighted rank of pages directing to page\n",
    "                out_degree = [ model.out_degree(i, weight='weight')  for i in predecessors ] # return number of oubound links\n",
    "\n",
    "\n",
    "                new_rank = sum( np.array(weighted) / np.array(out_degree))  # calculate the new weight rank for page\n",
    "\n",
    "                page_rank[page] = new_rank  # update new weighted rank\n",
    "                \n",
    "        old_rank = page_rank.copy()\n",
    "    \n",
    "    return old_rank"
   ]
  },
  {
   "cell_type": "markdown",
   "metadata": {},
   "source": [
    "### Implementation"
   ]
  },
  {
   "cell_type": "code",
   "execution_count": 61,
   "metadata": {},
   "outputs": [],
   "source": [
    "categoryrank = PageRank(model,iters=10)\n",
    "sorted_categoryrank = dict(sorted(categoryrank.items(), key=lambda item: item[1], reverse=True ))\n"
   ]
  },
  {
   "cell_type": "code",
   "execution_count": 64,
   "metadata": {},
   "outputs": [
    {
     "name": "stdout",
     "output_type": "stream",
     "text": [
      "------Top 20 Categories Rank-------\n",
      "Category:Living_people 0.002230519753189546\n",
      "Category:Harvard_University_alumni 0.0013064824152741654\n",
      "Category:18th-century_actors 0.0006337500720170538\n",
      "Category:Year_of_death_missing 0.0006221592410960053\n",
      "Category:Association_football_midfielders 0.0006152329764948485\n",
      "Category:Year_of_birth_missing 0.0006108802827956776\n",
      "Category:Place_of_birth_missing_(living_people) 0.0005553577582802481\n",
      "Category:English-language_films 0.0004963415492145869\n",
      "Category:Infectious_disease_deaths_in_California 0.0004538750591925096\n",
      "Category:The_Football_League_players 0.00044954131715011923\n",
      "Category:American_television_actors 0.00042835913317796476\n",
      "Category:American_film_actors 0.000414482399420498\n",
      "Category:Harvard_University_faculty 0.0003972525903496016\n",
      "Category:Association_football_forwards 0.00034873814923744843\n",
      "Category:English_footballers 0.00032036513967488887\n",
      "Category:American_people_of_Irish_descent 0.0003027593774217399\n",
      "Category:Alumni_of_Sciences_Po 0.00026351970046139037\n",
      "Category:American_films 0.0002620437614691942\n",
      "Category:La_Liga_footballers 0.00026010595646601723\n",
      "Category:Members_of_the_United_Kingdom_Parliament_for_English_constituencies 0.00022716824428283938\n"
     ]
    }
   ],
   "source": [
    "print('------Top 20 Categories Rank-------')\n",
    "count = 1\n",
    "for category_id, rank in sorted_categoryrank.items():\n",
    "    print(category_ids[category_id], rank)\n",
    "    if count == 20:\n",
    "        break\n",
    "    count +=1"
   ]
  },
  {
   "cell_type": "markdown",
   "metadata": {},
   "source": [
    "# Thank for reading. Happy day!!!"
   ]
  }
 ],
 "metadata": {
  "kernelspec": {
   "display_name": "Python 3",
   "language": "python",
   "name": "python3"
  },
  "language_info": {
   "codemirror_mode": {
    "name": "ipython",
    "version": 3
   },
   "file_extension": ".py",
   "mimetype": "text/x-python",
   "name": "python",
   "nbconvert_exporter": "python",
   "pygments_lexer": "ipython3",
   "version": "3.7.4"
  }
 },
 "nbformat": 4,
 "nbformat_minor": 2
}
